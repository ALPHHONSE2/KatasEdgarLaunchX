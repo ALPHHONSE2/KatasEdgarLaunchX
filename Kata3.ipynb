{
 "cells": [
  {
   "cell_type": "markdown",
   "metadata": {},
   "source": []
  },
  {
   "cell_type": "markdown",
   "metadata": {},
   "source": [
    "#Este programa advierte si un cometa es un peligro y esta cerca de una distancia de 25 km."
   ]
  },
  {
   "cell_type": "code",
   "execution_count": 6,
   "metadata": {},
   "outputs": [
    {
     "name": "stdout",
     "output_type": "stream",
     "text": [
      "Advertencia:El cometa esta por caer pronto\n"
     ]
    }
   ],
   "source": [
    "velocidad_no_deseada = 25\n",
    "velocidad_real = 49\n",
    "\n",
    "\n",
    "if velocidad_real > velocidad_no_deseada :\n",
    "    print(\"Advertencia:El cometa esta por caer pronto\")    \n",
    "else:\n",
    "    print(\"No hay ninguna advertencia por parte del transboradador\")"
   ]
  },
  {
   "cell_type": "markdown",
   "metadata": {},
   "source": [
    "#Este es un programa que avisa si un asteroide entro en la atmosfer\n"
   ]
  },
  {
   "cell_type": "code",
   "execution_count": 12,
   "metadata": {},
   "outputs": [
    {
     "name": "stdout",
     "output_type": "stream",
     "text": [
      " Un asteroide ya entro en la atmosfera Busca una luz en cielo \n"
     ]
    }
   ],
   "source": [
    "asteroide = 20\n",
    "asteroide_real = 19\n",
    "\n",
    "if asteroide_real == asteroide :\n",
    "    print(\" Un asteroide esta atravesando al atmosfera Busquen una luz en el cielo \")\n",
    "elif asteroide_real < asteroide :\n",
    "    print(\" Un asteroide ya entro en la atmosfera Busca una luz en cielo \")\n",
    "else:\n",
    "    print(\"No hay cuerpos celestes cerca de la tierra\")"
   ]
  },
  {
   "cell_type": "markdown",
   "metadata": {},
   "source": [
    "#Este es un programa para poder definir si es un peligro para nosotros"
   ]
  },
  {
   "cell_type": "code",
   "execution_count": 23,
   "metadata": {},
   "outputs": [
    {
     "name": "stdout",
     "output_type": "stream",
     "text": [
      " Un asteroide ya entro en la atmosfera Busca una luz en cielo \n"
     ]
    }
   ],
   "source": [
    "largo_asteroidem = 25\n",
    "largo_asteroideM = 1000\n",
    "velocidad_no_deseada = 25\n",
    "\n",
    "largo_real = 22\n",
    "velocidad_real = 24\n",
    "\n",
    "if (largo_real > largo_asteroidem and largo_real < largo_asteroideM) and velocidad_real > velocidad_no_deseada :\n",
    "    print(\" Advertencia se acerca un enorme asteroide con una velocidad grande,se pronostican daños criticos \")\n",
    "elif largo_real > largo_asteroidem and largo_real < largo_asteroideM :\n",
    "    print(\" Advertencia:se acerca un asteroide habra muchos daños \")\n",
    "elif velocidad_real > velocidad_no_deseada :\n",
    "    print(\" Advertencia:El cometa esta por caer pronto \")\n",
    "elif velocidad_real < velocidad_no_deseada :\n",
    "    print(\" Un asteroide ya entro en la atmosfera Busca una luz en cielo \")\n",
    "else :\n",
    "    print(\"El cometa que entro en la tierra no es tan grande asi es que no habra daños\")\n"
   ]
  }
 ],
 "metadata": {
  "interpreter": {
   "hash": "fe06f96167c4fc64a78c238d993189072a4e72b444216e36203d6f96126eaf0a"
  },
  "kernelspec": {
   "display_name": "Python 3.9.6 64-bit",
   "language": "python",
   "name": "python3"
  },
  "language_info": {
   "codemirror_mode": {
    "name": "ipython",
    "version": 3
   },
   "file_extension": ".py",
   "mimetype": "text/x-python",
   "name": "python",
   "nbconvert_exporter": "python",
   "pygments_lexer": "ipython3",
   "version": "3.9.6"
  },
  "orig_nbformat": 4
 },
 "nbformat": 4,
 "nbformat_minor": 2
}
