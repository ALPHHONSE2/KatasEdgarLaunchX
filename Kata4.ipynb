{
 "cells": [
  {
   "cell_type": "markdown",
   "metadata": {},
   "source": [
    "#Este programa extrae algunas oraciones completas de un texto y modifica algunas palabras #con c."
   ]
  },
  {
   "cell_type": "code",
   "execution_count": 35,
   "metadata": {},
   "outputs": [
    {
     "name": "stdout",
     "output_type": "stream",
     "text": [
      "--Este es el listado de todas las oraciones que hay en el Texto \n",
      "\n",
      "Esta es la oracion: Interesting facts about the Moon \n",
      "Esta es la oracion: The Moon is Earth's only satellite \n",
      "Esta es la oracion: There are several interesting facts \n",
      "about the Moon and how it affects life here on Earth \n",
      "Esta es la oracion: On average, the Moon moves 4cm away from the Earth every \n",
      "year \n",
      "Esta es la oracion: This yearly drift is not significant enough to cause immediate effects on Earth \n",
      "Esta es la oracion: The highest daylight temperature  \n",
      "\n",
      "--Este es el listado de todas las oraciones que contienen mis palabras clave\n",
      "\n",
      "En esta oracion esta la palabra (average): On average, the Moon moves 4cm away from the Earth every \n",
      "year\n",
      "En esta oracion esta la palabra (temperature): The highest daylight temperature \n",
      "\n",
      "--Este es el listado de todas las oraciones que seran cambiadas de c a Celsius\n",
      "\n",
      "En esta oracion esta la palabra (average): On average, the Moon moves 4cm away from the Earth every \n",
      "year\n",
      "On average, the Moon moves 4Celsiusm away from the Earth every \n",
      "year\n",
      "En esta oracion esta la palabra (temperature): The highest daylight temperature \n",
      "The highest daylight temperature \n"
     ]
    }
   ],
   "source": [
    "text = \"\"\"Interesting facts about the Moon.The Moon is Earth's only satellite.There are several interesting facts \n",
    "... about the Moon and how it affects life here on Earth.On average, the Moon moves 4cm away from the Earth every \n",
    "... year.This yearly drift is not significant enough to cause immediate effects on Earth.The highest daylight temperature \"\"\"\n",
    "\n",
    "text2 = text.split(\".\")\n",
    "\n",
    "claves = [\"average\", \"temperature\", \"distance\"]\n",
    "\n",
    "print(\"--Este es el listado de todas las oraciones que hay en el Texto \\n\")\n",
    "for textos in text2:\n",
    "    print(\"Esta es la oracion: {} \".format(textos))\n",
    "\n",
    "print(\"\\n--Este es el listado de todas las oraciones que contienen mis palabras clave\\n\")\n",
    "for texto in text2:\n",
    "    for clave in claves : \n",
    "        if clave in texto :\n",
    "            print(\"En esta oracion esta la palabra ({}): {}\".format(clave,texto))\n",
    "\n",
    "print(\"\\n--Este es el listado de todas las oraciones que seran cambiadas de c a Celsius\\n\")\n",
    "for texto in text2:\n",
    "    for clave in claves : \n",
    "        if clave in texto :\n",
    "            print(\"En esta oracion esta la palabra ({}): {}\".format(clave,texto))\n",
    "            print(texto.replace('c','Celsius'))\n",
    "\n",
    "\n",
    "    "
   ]
  },
  {
   "cell_type": "markdown",
   "metadata": {},
   "source": [
    "#Este programa hace un analisis de la gravedad que hay en las lunas"
   ]
  },
  {
   "cell_type": "markdown",
   "metadata": {},
   "source": [
    " #"
   ]
  },
  {
   "cell_type": "code",
   "execution_count": 38,
   "metadata": {},
   "outputs": [
    {
     "name": "stdout",
     "output_type": "stream",
     "text": [
      "\n",
      "---------------------------------------primera lectura----------------------------------------------- \n",
      "\n",
      "Gravedad que hay entre la Luna y la  Tierra\n",
      "******************************************************************************** \n",
      "Nombre del planeta: Tierra \n",
      "Gravedad en Luna: 1.6199999999999999 m/s2 \n",
      "\n",
      "-----------------------------------------segunda lectura--------------------------------------------------\n",
      "\n",
      "Gravedad que hay entre la Luna y la  Tierra\n",
      "******************************************************************************** \n",
      "Nombre del planeta: Tierra \n",
      "Gravedad en Luna: 1.6199999999999999 m/s2 \n",
      "\n",
      "\n",
      "------------------------------------------Tercera Lectura------------------------------------------------- \n",
      "\n",
      " \n",
      "Gravedad del planeta: jupiter\n",
      "********************************************************************************\n",
      " Nombre del planeta:saturno\n",
      "Gravedad en jupiter: 5.62 m/s2 \n"
     ]
    }
   ],
   "source": [
    "print(\"\\n---------------------------------------primera lectura----------------------------------------------- \\n\")\n",
    "name = \"Luna\"\n",
    "gravity = 0.00162 #in Kms\n",
    "planet = \"Tierra\"\n",
    "texto = f\"Gravedad que hay entre la {name} y la  {planet}\"\n",
    "gravedadms = gravity * 1000\n",
    "#print(\"Esta es la gravedad que experimenta la {} con respecto a la {}: {} ms\".format( planet, name, gravedadms ))\n",
    "\n",
    "informe1 = f\"\"\"{'*'*80} \n",
    "Nombre del planeta: {planet} \n",
    "Gravedad en {name}: {gravedadms} m/s2 \n",
    "\"\"\"\n",
    "plantilla = f\"\"\"{texto}\\n{informe1}\"\"\"\n",
    "\n",
    "print(f\"{plantilla}\")\n",
    "\n",
    "#*****************************************************************************************************************\n",
    "\n",
    "print(\"-----------------------------------------segunda lectura--------------------------------------------------\\n\")\n",
    "name = \"Marte\"\n",
    "gravity = 0.00143 #in Kms\n",
    "planet = \"Ganimedes\"\n",
    "\n",
    "print(f\"{plantilla}\\n\")\n",
    "\n",
    "#*****************************************************************************************************************\n",
    "print(\"------------------------------------------Tercera Lectura------------------------------------------------- \\n\")\n",
    "gravedadms = gravity * 1000\n",
    "informe2 = f\"\"\" \n",
    "Gravedad del planeta: {name}\n",
    "{'*'*80}\\n Nombre del planeta:{planet}\n",
    "Gravedad en {name}: {gravedadms} m/s2 \"\"\"\n",
    "\n",
    "print(informe2.format(planet = planet, name = name, gravedadms = gravedadms))\n",
    "\n",
    "\n",
    "\n",
    "\n"
   ]
  }
 ],
 "metadata": {
  "interpreter": {
   "hash": "d406864f2ee78ecc67afccccd0a48c216f41ca3a0f9ca739a0b9d8b15ae422ba"
  },
  "kernelspec": {
   "display_name": "Python 3.10.2 64-bit",
   "language": "python",
   "name": "python3"
  },
  "language_info": {
   "codemirror_mode": {
    "name": "ipython",
    "version": 3
   },
   "file_extension": ".py",
   "mimetype": "text/x-python",
   "name": "python",
   "nbconvert_exporter": "python",
   "pygments_lexer": "ipython3",
   "version": "3.9.6"
  },
  "orig_nbformat": 4
 },
 "nbformat": 4,
 "nbformat_minor": 2
}
