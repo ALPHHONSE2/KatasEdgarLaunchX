{
 "cells": [
  {
   "cell_type": "markdown",
   "metadata": {},
   "source": [
    "#Este programa calculara la distancia entre 2 planetas"
   ]
  },
  {
   "cell_type": "code",
   "execution_count": 3,
   "metadata": {},
   "outputs": [
    {
     "name": "stdout",
     "output_type": "stream",
     "text": [
      "628949330\n",
      " Esta es la distancia de la tierra a jupiter en kms: 628949330\n",
      " Esta es la distancia de la tierra a jupiter en mlls: 390577533.93\n"
     ]
    }
   ],
   "source": [
    "d1Tierra  = 149597870  #km\n",
    "d2Jupiter = 778547200 #km\n",
    "eqmll = 0.621\n",
    "\n",
    "#operacion de resta para encontrar la distancia entre planetas\n",
    "distancia_entre_planetas = d2Jupiter - d1Tierra\n",
    "\n",
    "print(distancia_entre_planetas)\n",
    "\n",
    "distancia_entre_planetasmll = distancia_entre_planetas * eqmll\n",
    "\n",
    "\n",
    "print(\" Esta es la distancia de la tierra a jupiter en kms: {}\".format(distancia_entre_planetas))\n",
    "print(\" Esta es la distancia de la tierra a jupiter en mlls: {}\".format(distancia_entre_planetasmll))\n"
   ]
  },
  {
   "cell_type": "markdown",
   "metadata": {},
   "source": [
    "#Este programa puede hacer calculos con el texto que se ingrese"
   ]
  },
  {
   "cell_type": "code",
   "execution_count": 11,
   "metadata": {},
   "outputs": [
    {
     "name": "stdout",
     "output_type": "stream",
     "text": [
      "Este programa calcula la distancia que existe entre 2 planetas\n",
      "\n",
      "La distancia en ms entre los planetas digitados es: 20\n",
      "La distancia en mll entre los planetas digitados es: 12.42\n"
     ]
    }
   ],
   "source": [
    "print(\"Este programa calcula la distancia que existe entre 2 planetas\\n\")\n",
    "\n",
    "dplaneta1 = input('Inserte la distancia del 1er Planeta : \\n')\n",
    "cdplaneta1 = int(dplaneta1)\n",
    "\n",
    "dplaneta2 = input('Inserte la distancia del 2do Planeta : \\n')\n",
    "cdplaneta2 = int(dplaneta2)\n",
    "\n",
    "mll = 0.621\n",
    "\n",
    "distancia_entre_planetasms = cdplaneta2 - cdplaneta1\n",
    "distancia_entre_planetasmll= abs(distancia_entre_planetasms) * mll \n",
    "\n",
    "\n",
    "print(\"La distancia en ms entre los planetas digitados es: {}\".format(abs(distancia_entre_planetasms)))\n",
    "print(\"La distancia en mll entre los planetas digitados es: {}\".format(distancia_entre_planetasmll))\n"
   ]
  }
 ],
 "metadata": {
  "interpreter": {
   "hash": "d406864f2ee78ecc67afccccd0a48c216f41ca3a0f9ca739a0b9d8b15ae422ba"
  },
  "kernelspec": {
   "display_name": "Python 3.10.2 64-bit",
   "language": "python",
   "name": "python3"
  },
  "language_info": {
   "codemirror_mode": {
    "name": "ipython",
    "version": 3
   },
   "file_extension": ".py",
   "mimetype": "text/x-python",
   "name": "python",
   "nbconvert_exporter": "python",
   "pygments_lexer": "ipython3",
   "version": "3.10.2"
  },
  "orig_nbformat": 4
 },
 "nbformat": 4,
 "nbformat_minor": 2
}
