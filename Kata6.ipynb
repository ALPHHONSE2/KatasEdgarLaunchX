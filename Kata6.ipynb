{
 "cells": [
  {
   "cell_type": "markdown",
   "metadata": {},
   "source": [
    "#Programa que relaciona caracteristicas de los planetas en una lista"
   ]
  },
  {
   "cell_type": "code",
   "execution_count": 8,
   "metadata": {},
   "outputs": [
    {
     "name": "stdout",
     "output_type": "stream",
     "text": [
      "Estos son los 8 planetas que conforman el sistema solar:  ['Marte', 'Tierra', 'Mercurio', 'Saturno', 'Urano', 'Neptuno', 'Jupiter', 'Venus']\n",
      "Estos son los 9 planetas que conforman el sistema solar y se a agregado otro planeta mas:  ['Marte', 'Tierra', 'Mercurio', 'Saturno', 'Urano', 'Neptuno', 'Jupiter', 'Venus', 'pluton']\n",
      "Este es el ultimo planeta que conforma el sistema solar pluton\n"
     ]
    }
   ],
   "source": [
    "#Estos son los 8 planetas que conforman el sistema solar\n",
    "planetas = [ 'Marte', 'Tierra', 'Mercurio', 'Saturno', 'Urano', 'Neptuno', 'Jupiter', 'Venus']\n",
    "numero_planetas = len(planetas)\n",
    "print(\"Estos son los\", numero_planetas, \"planetas que conforman el sistema solar: \", planetas )\n",
    "\n",
    "#Se agregara un nuevo planeta a la lista y tambien se mostrara el nombre de este\n",
    "planetas.append('pluton')\n",
    "numero_planetas = len(planetas)\n",
    "print(\"Estos son los\", numero_planetas, \"planetas que conforman el sistema solar y se a agregado otro planeta mas: \", planetas )\n",
    "print(\"Este es el ultimo planeta que conforma el sistema solar: \",planetas[-1])\n",
    "\n"
   ]
  },
  {
   "cell_type": "markdown",
   "metadata": {},
   "source": [
    "#Se verificara que tan cerca esta un planeta de otro usando una lista"
   ]
  },
  {
   "cell_type": "code",
   "execution_count": 10,
   "metadata": {},
   "outputs": [
    {
     "name": "stdout",
     "output_type": "stream",
     "text": [
      "Estos son todos los planetas que se han hallado hasta ahora ['Mercury', 'Venus', 'Earth', 'Mars', 'Jupiter', 'Saturn', 'Neptune', 'pluton']\n",
      "Este es la posicion que ocupa el ultimo planeta que descubrio 7\n",
      "Este es la posicion que ocupan los 2 ultimos planetas que descubrio ['Mercury', 'Venus', 'Earth', 'Mars', 'Jupiter', 'Saturn', 'Neptune']\n",
      "Este es la posicion que ocupan los planetas mas alejados que descubrio []\n"
     ]
    }
   ],
   "source": [
    "#El usuario ingresara nuevos planetas que halla descubierto\n",
    "planets2 = ['Mercury', 'Venus', 'Earth', 'Mars', 'Jupiter', 'Saturn', 'Neptune']\n",
    "\n",
    "planeta = input(\"Digite el nuevo planeta que se encontro en su viaje comenzacon con mayuscula la primera letra y las demas minusculas:\")\n",
    "planets2.append(planeta)\n",
    "\n",
    "print(\"Estos son todos los planetas que se han hallado hasta ahora\", planets2)\n",
    "\n",
    "#El usuario hallara los planetas mas cercanos en su lista antes del ultimo planeta que inserto\n",
    "indice_planeta = planets2.index(planeta)\n",
    "print(\"Este es la posicion que ocupa el ultimo planeta que descubrio\", indice_planeta)\n",
    "ultimos_planetas = planets2[0:indice_planeta]\n",
    "print(\"Este es la posicion que ocupan los 2 ultimos planetas que descubrio\", ultimos_planetas)\n",
    "\n",
    "#El usuario hallara los planetas mas alejados en su lista desde el ultimo planeta que inserto\n",
    "alejados_planetas = planets2[indice_planeta + 1: ]\n",
    "print(\"Este es la posicion que ocupan los planetas mas alejados que descubrio\", alejados_planetas)"
   ]
  }
 ],
 "metadata": {
  "interpreter": {
   "hash": "d406864f2ee78ecc67afccccd0a48c216f41ca3a0f9ca739a0b9d8b15ae422ba"
  },
  "kernelspec": {
   "display_name": "Python 3.10.2 64-bit",
   "language": "python",
   "name": "python3"
  },
  "language_info": {
   "codemirror_mode": {
    "name": "ipython",
    "version": 3
   },
   "file_extension": ".py",
   "mimetype": "text/x-python",
   "name": "python",
   "nbconvert_exporter": "python",
   "pygments_lexer": "ipython3",
   "version": "3.9.6"
  },
  "orig_nbformat": 4
 },
 "nbformat": 4,
 "nbformat_minor": 2
}
