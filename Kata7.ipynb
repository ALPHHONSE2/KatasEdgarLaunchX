{
 "cells": [
  {
   "cell_type": "markdown",
   "metadata": {},
   "source": [
    "#El usuario ingresara un numero determinado de planetas que el quiera ingresar"
   ]
  },
  {
   "cell_type": "code",
   "execution_count": 8,
   "metadata": {},
   "outputs": [
    {
     "name": "stdout",
     "output_type": "stream",
     "text": [
      "Estos son todos los planetas que ingresaste ['marte', 'urano', 'neptuno']\n"
     ]
    }
   ],
   "source": [
    "nuevo_planeta = ''\n",
    "planetas_lista = []\n",
    "\n",
    "\n",
    "while nuevo_planeta.lower() != \"done\" :\n",
    "        if nuevo_planeta :\n",
    "            planetas_lista.append(nuevo_planeta)\n",
    "        nuevo_planeta = input(\"Digite un nuevo planeta: \")\n",
    "\n",
    "print(\"Estos son todos los planetas que ingresaste: \", planetas_lista)\n"
   ]
  },
  {
   "cell_type": "markdown",
   "metadata": {},
   "source": [
    "#Imprimiremos en forma de tabla cada uno de los planetas que el usuario ingreso"
   ]
  },
  {
   "cell_type": "code",
   "execution_count": 10,
   "metadata": {},
   "outputs": [
    {
     "name": "stdout",
     "output_type": "stream",
     "text": [
      "Este es el planeta  0 con el nombre:  marte\n",
      "Este es el planeta  1 con el nombre:  urano\n",
      "Este es el planeta  2 con el nombre:  neptuno\n"
     ]
    }
   ],
   "source": [
    "for planeta in planetas_lista:\n",
    "    print(\"Este es el planeta \", planetas_lista.index(planeta), \"con el nombre: \", planeta)"
   ]
  }
 ],
 "metadata": {
  "interpreter": {
   "hash": "d406864f2ee78ecc67afccccd0a48c216f41ca3a0f9ca739a0b9d8b15ae422ba"
  },
  "kernelspec": {
   "display_name": "Python 3.10.2 64-bit",
   "language": "python",
   "name": "python3"
  },
  "language_info": {
   "codemirror_mode": {
    "name": "ipython",
    "version": 3
   },
   "file_extension": ".py",
   "mimetype": "text/x-python",
   "name": "python",
   "nbconvert_exporter": "python",
   "pygments_lexer": "ipython3",
   "version": "3.9.6"
  },
  "orig_nbformat": 4
 },
 "nbformat": 4,
 "nbformat_minor": 2
}
