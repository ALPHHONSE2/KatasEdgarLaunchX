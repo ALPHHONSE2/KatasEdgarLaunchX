{
 "cells": [
  {
   "cell_type": "markdown",
   "metadata": {},
   "source": [
    "#En este programa crearemos un diccionario"
   ]
  },
  {
   "cell_type": "code",
   "execution_count": 10,
   "metadata": {},
   "outputs": [
    {
     "name": "stdout",
     "output_type": "stream",
     "text": [
      "Este es el nombre de mi planeta Marte y tiene 2 lunas\n"
     ]
    }
   ],
   "source": [
    "planetadic = {\n",
    "    'nombre' : 'Marte',\n",
    "    'Luna' : 2\n",
    "}\n",
    "print(\"Este es el nombre de mi planeta\",planetadic.get('nombre'), \"y tiene\", planetadic.get('Luna'), \"lunas\")"
   ]
  },
  {
   "cell_type": "markdown",
   "metadata": {},
   "source": [
    "#En esta parte del programa agregaremos un atributo del tipo diccionario al diccionario planetadic"
   ]
  },
  {
   "cell_type": "code",
   "execution_count": 18,
   "metadata": {},
   "outputs": [
    {
     "name": "stdout",
     "output_type": "stream",
     "text": [
      "La circunferencia tiene 6752 correspondiente al planeta Marte \n"
     ]
    }
   ],
   "source": [
    "planetadic['circunferencia'] = {'polar' : 6752, \n",
    "                                'equatorial' : 6792 \n",
    "}\n",
    "\n",
    "print(f\"La circunferencia tiene {planetadic['circunferencia' ]['polar' ]} correspondiente al planeta {planetadic['nombre']} \")"
   ]
  },
  {
   "cell_type": "markdown",
   "metadata": {},
   "source": [
    "#En esta parte del programa calcularemos las lunas totales "
   ]
  },
  {
   "cell_type": "code",
   "execution_count": 22,
   "metadata": {},
   "outputs": [
    {
     "name": "stdout",
     "output_type": "stream",
     "text": [
      "La suma total de las lunes es igual a:  214\n",
      "El promedio del total de lunas por planetas es:  17.833333333333332\n"
     ]
    }
   ],
   "source": [
    "# Planets and moons\n",
    "\n",
    "planet_moons = {\n",
    "    'mercury': 0,\n",
    "    'venus': 0,\n",
    "    'earth': 1,\n",
    "    'mars': 2,\n",
    "    'jupiter': 79,\n",
    "    'saturn': 82,\n",
    "    'uranus': 27,\n",
    "    'neptune': 14,\n",
    "    'pluto': 5,\n",
    "    'haumea': 2,\n",
    "    'makemake': 1,\n",
    "    'eris': 1\n",
    "}\n",
    "\n",
    "#Guardamos en un arreglo solo el numero de lunas que contienen ciertos planetas\n",
    "lunas = planet_moons.values()\n",
    "\n",
    "#Guardamos el numero total de planetas que se veran involucradon en el conteo de sus lunas\n",
    "numero_planetas = len(planet_moons.keys())\n",
    "\n",
    "#Creamos una variable que servira de contador por cada iteracion de 1 en 1\n",
    "total_lunas = 0\n",
    "\n",
    "for luna in lunas:\n",
    "    total_lunas = luna + total_lunas\n",
    "\n",
    "print(\"La suma total de las lunes es igual a: \", total_lunas)\n",
    "promedio = total_lunas / numero_planetas\n",
    "print(\"El promedio del total de lunas por planetas es: \", promedio)"
   ]
  }
 ],
 "metadata": {
  "interpreter": {
   "hash": "d406864f2ee78ecc67afccccd0a48c216f41ca3a0f9ca739a0b9d8b15ae422ba"
  },
  "kernelspec": {
   "display_name": "Python 3.10.2 64-bit",
   "language": "python",
   "name": "python3"
  },
  "language_info": {
   "codemirror_mode": {
    "name": "ipython",
    "version": 3
   },
   "file_extension": ".py",
   "mimetype": "text/x-python",
   "name": "python",
   "nbconvert_exporter": "python",
   "pygments_lexer": "ipython3",
   "version": "3.9.6"
  },
  "orig_nbformat": 4
 },
 "nbformat": 4,
 "nbformat_minor": 2
}
