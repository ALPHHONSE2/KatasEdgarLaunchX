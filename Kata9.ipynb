{
 "cells": [
  {
   "cell_type": "markdown",
   "metadata": {},
   "source": [
    "#Este programa hace el conteo de combustible mediante funciones y lo reporta"
   ]
  },
  {
   "cell_type": "code",
   "execution_count": 9,
   "metadata": {},
   "outputs": [
    {
     "name": "stdout",
     "output_type": "stream",
     "text": [
      "**********************Estatus de potencia de la Nave******************** \n",
      " informe*********************************************\n",
      "\n",
      "    ... combustible restante: 20.0\n",
      "    ... combustible auxiliar: 20%  \n",
      "    ... combustible trasero: 20% \n",
      "    ... combustible emergencia: 20%\n",
      "\n"
     ]
    }
   ],
   "source": [
    "def reporte(combustible1, combustible2, combustible3):\n",
    "    suma = combustible1 + combustible2 +combustible3\n",
    "    total = 3\n",
    "    promedio = suma / total\n",
    "    return f\"\"\"informe*********************************************\\n\n",
    "    ... combustible restante: {promedio}%\n",
    "    ... combustible auxiliar: {combustible1}%  \n",
    "    ... combustible trasero: {combustible2}% \n",
    "    ... combustible emergencia: {combustible3}%\\n\"\"\"\n",
    "\n",
    "\n",
    "combustible_auxiliar = input(\"Inserte el valor del combustible en los propulsores auxiliares:\")\n",
    "combustible_trasero = input(\"Inserte el valor del combustible en los propulsores traseros:\")\n",
    "combustible_emergencia = input(\"Inserte el valor del combustible de emergencia:\")\n",
    "\n",
    "Combustible_restante_total =  reporte(int(combustible_auxiliar), int(combustible_trasero), int(combustible_emergencia))\n",
    "\n",
    "print(\"**********************Estatus de potencia de la Nave******************** \\n\", Combustible_restante_total)\n"
   ]
  },
  {
   "cell_type": "markdown",
   "metadata": {},
   "source": [
    "#En este programa dividiremos la accion de crear un informe asi como sacar el promedio en dos funciones\n",
    "#Nos centraremos en la funcion de sacar el promedio con valores definidos con una lista"
   ]
  },
  {
   "cell_type": "code",
   "execution_count": null,
   "metadata": {},
   "outputs": [],
   "source": [
    "def combustible_promedio(combustibles):\n",
    "    t=0\n",
    "    for combustible in combustibles :\n",
    "        t = combustible + t\n",
    "   \n",
    "    promedio = t/3\n",
    "    return promedio\n",
    "\n",
    "combustible_promedio([ 1, 2, 3])\n",
    "\n",
    "Combustible_restante_total = combustible_promedio([ 1, 2, 3])\n",
    "print(\"Este es el promedio de combustible que nos queda en los tanques: \", Combustible_restante_total)"
   ]
  },
  {
   "cell_type": "markdown",
   "metadata": {},
   "source": [
    "#En este programa ya uniremos los programa de sacar el promedio pidiendole al usuario que\n",
    "#ingrese los valores que hay en cada tanque"
   ]
  },
  {
   "cell_type": "code",
   "execution_count": 30,
   "metadata": {},
   "outputs": [
    {
     "name": "stdout",
     "output_type": "stream",
     "text": [
      "Este es el promedio de combustible que nos queda en los tanques:  83.0\n"
     ]
    }
   ],
   "source": [
    "def combustible_promedio(combustibles):\n",
    "    t=0\n",
    "    for combustible in combustibles :\n",
    "        t = combustible + t\n",
    "   \n",
    "    promedio = t/ len(combustibles)\n",
    "    return promedio\n",
    "\n",
    "\n",
    "elementos = []\n",
    "\n",
    "combustible_auxiliar = input(\"Inserte el valor del combustible en los propulsores auxiliares:\")\n",
    "combustible_trasero = input(\"Inserte el valor del combustible en los propulsores traseros:\")\n",
    "combustible_emergencia = input(\"Inserte el valor del combustible de emergencia:\")\n",
    "\n",
    "elementos.append(int(combustible_auxiliar))\n",
    "elementos.append(int(combustible_trasero))\n",
    "elementos.append(int(combustible_emergencia))\n",
    "\n",
    "Combustible_restante_total = combustible_promedio(elementos)\n",
    "print(\"Este es el promedio de combustible que nos queda en los tanques: \", Combustible_restante_total)"
   ]
  },
  {
   "cell_type": "markdown",
   "metadata": {},
   "source": [
    "#En esta parte del programa uniremos las dos funciones tanto sacar el promedio como poder ingresar los valores \n",
    "#de los tanques"
   ]
  },
  {
   "cell_type": "code",
   "execution_count": 5,
   "metadata": {},
   "outputs": [
    {
     "name": "stdout",
     "output_type": "stream",
     "text": [
      "Este es el promedio de combustible que nos queda en los tanques:  60.0\n",
      "****************************************informe********************************************\n",
      "\n",
      "    combustible restante: 60.0%\n",
      "    combustible auxiliar: 150%  \n",
      "    combustible trasero: 20% \n",
      "    combustible emergencia: 10%\n",
      "\n"
     ]
    }
   ],
   "source": [
    "\n",
    "def combustible_promedio(combustibles):\n",
    "    t=0\n",
    "    for combustible in combustibles :\n",
    "        t = combustible + t\n",
    "   \n",
    "    promedio = t/ len(combustibles)\n",
    "    return promedio\n",
    "    \n",
    "def reporte(combustible1, combustible2, combustible3):\n",
    "    #suma = combustible1 + combustible2 +combustible3\n",
    "    #total = 3\n",
    "    #promedio = suma / total\n",
    "    return f\"\"\"****************************************informe********************************************\\n\n",
    "    combustible restante: {combustible_promedio([combustible1, combustible2, combustible3])}%\n",
    "    combustible auxiliar: {combustible1}%  \n",
    "    combustible trasero: {combustible2}% \n",
    "    combustible emergencia: {combustible3}%\\n\"\"\"\n",
    "\n",
    "elementos = []\n",
    "\n",
    "combustible_auxiliar = input(\"Inserte el valor del combustible en los propulsores auxiliares:\")\n",
    "combustible_trasero = input(\"Inserte el valor del combustible en los propulsores traseros:\")\n",
    "combustible_emergencia = input(\"Inserte el valor del combustible de emergencia:\")\n",
    "\n",
    "elementos.append(int(combustible_auxiliar))\n",
    "elementos.append(int(combustible_trasero))\n",
    "elementos.append(int(combustible_emergencia))\n",
    "\n",
    "Combustible_restante_total = combustible_promedio(elementos)\n",
    "print(\"Este es el promedio de combustible que nos queda en los tanques: \", Combustible_restante_total)\n",
    "\n",
    "Combustible_restante_total =  reporte(int(combustible_auxiliar), int(combustible_trasero), int(combustible_emergencia))\n",
    "print(Combustible_restante_total)"
   ]
  },
  {
   "cell_type": "markdown",
   "metadata": {},
   "source": [
    "#Función con un informe preciso de la misión.\n",
    "#Considera: \n",
    "#hora de prelanzamiento, \n",
    "#tiempo de vuelo\n",
    "#destino\n",
    "#tanque externo \n",
    "#tanque interno\n",
    "#En este programa imprimiremos un informe para una mision"
   ]
  },
  {
   "cell_type": "code",
   "execution_count": 15,
   "metadata": {},
   "outputs": [
    {
     "name": "stdout",
     "output_type": "stream",
     "text": [
      "***************************Estos son los datos del proximo lanzamiento espacial****************************\n",
      "****************************************informe********************************************\n",
      "\n",
      "    tiempo total de viaje : 35658 min  \n",
      "    destino: jupiter \n",
      "    Gasolina total en los tanques: 3658%\n",
      "\n"
     ]
    }
   ],
   "source": [
    "def informe_precision( dato1, dato2, dato3, dato4, dato5):\n",
    "    gasolina_restante = dato4 + dato5\n",
    "    viaje_total = dato1 + dato2\n",
    "    return f\"\"\"****************************************informe********************************************\\n\n",
    "    tiempo total de viaje : {viaje_total} min  \n",
    "    destino: {dato3} \n",
    "    Gasolina total en los tanques: {gasolina_restante}%\\n\"\"\"\n",
    "\n",
    "print(\"***************************Estos son los datos del proximo lanzamiento espacial****************************\")\n",
    "\n",
    "tiempo_prelanzamiento = input(\"Inserte el tiempo de lanzamiento:\")\n",
    "tiempo_vuelo= input(\"Inserte el tiempo de vuelo que tendra el cohete:\")\n",
    "destino = input(\"Inserte el planeta a donde sera la mision:\")\n",
    "tanque_externo = input(\"Inserte el porcentaje de gasolina que hay en el tanque externo :\")\n",
    "tanque_interno = input(\"Inserte el porcentaje de gasolina que hay en el tanque interno :\")\n",
    "\n",
    "Combustible_restante_total =  informe_precision( int(tiempo_prelanzamiento), int(tiempo_vuelo), destino,int(tanque_externo), int(tanque_interno))\n",
    "print(Combustible_restante_total)\n"
   ]
  },
  {
   "cell_type": "markdown",
   "metadata": {},
   "source": [
    "#Este programa recopila cosas esenciales para el lanzamiento\n",
    "#y se hace uso de argumentos de variable"
   ]
  },
  {
   "cell_type": "code",
   "execution_count": 28,
   "metadata": {},
   "outputs": [
    {
     "name": "stdout",
     "output_type": "stream",
     "text": [
      "***************************Estos son los datos del proximo lanzamiento espacial****************************\n",
      "****************************************informe********************************************\n",
      "\n",
      "tiempo total de viaje : 36 min\n",
      "destino: jupiter \n",
      "Gasolina total en los tanques: 68%\n",
      "\n"
     ]
    }
   ],
   "source": [
    "def informe_precision( dato3,*vuelo, **tanquetotal):\n",
    "    print(\"****************************************informe********************************************\\n\")\n",
    "    tiempo = sum(vuelo)\n",
    "    if tiempo >= 60 :\n",
    "        horas = tiempo//60\n",
    "        minutos = tiempo % 60\n",
    "        print(f\" tiempo total de viaje : {horas} hrs con {minutos} min\")\n",
    "    else :\n",
    "        print(f\"tiempo total de viaje : {tiempo} min\")\n",
    "    return f\"\"\"destino: {dato3} \n",
    "Gasolina total en los tanques: {sum(tanquetotal.values())}%\\n\"\"\"\n",
    "\n",
    "print(\"***************************Estos son los datos del proximo lanzamiento espacial****************************\")\n",
    "\n",
    "tiempo_prelanzamiento = input(\"Inserte el tiempo de lanzamiento:\")\n",
    "tiempo_vuelo= input(\"Inserte el tiempo de vuelo que tendra el cohete:\")\n",
    "tiempo_tres = input(\"Inserte el tiempo de vuelo tres que tendra el cohete:\")\n",
    "destino = input(\"Inserte el planeta a donde sera la mision:\")\n",
    "tanque_externo = input(\"Inserte el porcentaje de gasolina que hay en el tanque externo :\")\n",
    "tanque_interno = input(\"Inserte el porcentaje de gasolina que hay en el tanque interno :\")\n",
    "\n",
    "Combustible_restante_total =  informe_precision( destino, int(tiempo_prelanzamiento), int(tiempo_vuelo), int(tiempo_tres), interno = int(tanque_interno), externo = int(tanque_externo))\n",
    "print(Combustible_restante_total)\n"
   ]
  },
  {
   "cell_type": "markdown",
   "metadata": {},
   "source": [
    "#Este programa recopila cosas esenciales para el lanzamiento\n",
    "#y se hace uso de argumentos de variable asi como imprimir el nombre de los tanques"
   ]
  },
  {
   "cell_type": "code",
   "execution_count": 39,
   "metadata": {},
   "outputs": [
    {
     "name": "stdout",
     "output_type": "stream",
     "text": [
      "***************************Estos son los datos del proximo lanzamiento espacial****************************\n",
      "****************************************informe********************************************\n",
      "\n",
      " tiempo total de viaje : 1 hrs con 10 min\n",
      "destino: jupiter \n",
      "Gasolina total en los tanques: 80243\n",
      "El tanque 1 tiene el siguiente nombre Tanque interno y hay 67899 litros de gasolina \n",
      "El tanque 2 tiene el siguiente nombre Tanque externo y hay 12344 litros de gasolina \n",
      "\n"
     ]
    }
   ],
   "source": [
    "def informe_precision( dato3,*vuelo, **tanquetotal):\n",
    "    print(\"****************************************informe********************************************\\n\")\n",
    "    tiempo = sum(vuelo)\n",
    "    if tiempo >= 60 :\n",
    "        horas = tiempo//60\n",
    "        minutos = tiempo % 60\n",
    "        print(f\" tiempo total de viaje : {horas} hrs con {minutos} min\")\n",
    "    else :\n",
    "        print(f\"tiempo total de viaje : {tiempo} min\")\n",
    "    reporte_final = f\"\"\"destino: {dato3} \n",
    "Gasolina total en los tanques: {sum(tanquetotal.values())}\\n\"\"\"\n",
    "    i=0\n",
    "    for nombre_tanque, gasolina in tanquetotal.items():\n",
    "        i=i+1\n",
    "        reporte_final += f\"El tanque {i} tiene el siguiente nombre Tanque {nombre_tanque} y hay {gasolina} litros de gasolina \\n\"\n",
    "    return reporte_final\n",
    "\n",
    "    \n",
    "print(\"***************************Estos son los datos del proximo lanzamiento espacial****************************\")\n",
    "\n",
    "tiempo_prelanzamiento = input(\"Inserte el tiempo de lanzamiento:\")\n",
    "tiempo_vuelo= input(\"Inserte el tiempo de vuelo que tendra el cohete:\")\n",
    "tiempo_tres = input(\"Inserte el tiempo de vuelo tres que tendra el cohete:\")\n",
    "destino = input(\"Inserte el planeta a donde sera la mision:\")\n",
    "tanque_externo = input(\"Inserte el porcentaje de gasolina que hay en el tanque externo :\")\n",
    "tanque_interno = input(\"Inserte el porcentaje de gasolina que hay en el tanque interno :\")\n",
    "\n",
    "Combustible_restante_total =  informe_precision( destino, int(tiempo_prelanzamiento), int(tiempo_vuelo), int(tiempo_tres), interno = int(tanque_interno), externo = int(tanque_externo))\n",
    "print(Combustible_restante_total)"
   ]
  }
 ],
 "metadata": {
  "interpreter": {
   "hash": "d406864f2ee78ecc67afccccd0a48c216f41ca3a0f9ca739a0b9d8b15ae422ba"
  },
  "kernelspec": {
   "display_name": "Python 3.10.2 64-bit",
   "language": "python",
   "name": "python3"
  },
  "language_info": {
   "codemirror_mode": {
    "name": "ipython",
    "version": 3
   },
   "file_extension": ".py",
   "mimetype": "text/x-python",
   "name": "python",
   "nbconvert_exporter": "python",
   "pygments_lexer": "ipython3",
   "version": "3.9.6"
  },
  "orig_nbformat": 4
 },
 "nbformat": 4,
 "nbformat_minor": 2
}
